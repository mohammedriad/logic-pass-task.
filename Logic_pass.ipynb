{
 "cells": [
  {
   "cell_type": "markdown",
   "id": "61cfd6cc",
   "metadata": {},
   "source": [
    "\n",
    "### Q/1\n",
    "#### write a method that will remove any given charcter from a string ?"
   ]
  },
  {
   "cell_type": "code",
   "execution_count": 2,
   "id": "0c82cfee",
   "metadata": {},
   "outputs": [
    {
     "name": "stdout",
     "output_type": "stream",
     "text": [
      "AL\n"
     ]
    }
   ],
   "source": [
    "class Logic_pass:\n",
    "    # Methode that take the string and the index of charcter that you want to delete\n",
    "    def remove_char (string_ , cha_ ):\n",
    "\n",
    "        return string_.replace(cha_, \"\")  \n",
    "\n",
    "    d=\"ALO\"\n",
    "    c = remove_char(d, d[2])\n",
    "    print(c)\n",
    "    # and you can simply use the replace function "
   ]
  },
  {
   "cell_type": "markdown",
   "id": "0ca18192",
   "metadata": {},
   "source": [
    "### Q/2\n",
    "#### write a program to find all prime numbers up to a given  range of numbers ? "
   ]
  },
  {
   "cell_type": "code",
   "execution_count": null,
   "id": "fd9ca02d",
   "metadata": {},
   "outputs": [],
   "source": [
    "lower_value = int(input (\"Please, Enter the Lowest Range Value: \"))  \n",
    "upper_value = int(input (\"Please, Enter the Upper Range Value: \"))  \n",
    "  \n",
    "print (\"The Prime Numbers in the range are: \")  \n",
    "for number in range (lower_value, upper_value + 1):  \n",
    "    if number > 1:  \n",
    "        for i in range (2, number):  \n",
    "            if (number % i) == 0:  \n",
    "                break  \n",
    "        else:  \n",
    "            print (number)  "
   ]
  },
  {
   "cell_type": "markdown",
   "id": "5bc2bb6f",
   "metadata": {},
   "source": [
    "### Q/3\n",
    "#### write a function that count how many the given charcter repeated in a given string ?"
   ]
  },
  {
   "cell_type": "code",
   "execution_count": 54,
   "id": "a6b05ba9",
   "metadata": {},
   "outputs": [
    {
     "name": "stdout",
     "output_type": "stream",
     "text": [
      "a : reapeted\n",
      "b : reapeted\n",
      "c : reapeted\n"
     ]
    }
   ],
   "source": [
    "\n",
    "def repeatef(text) :\n",
    "    \n",
    "    \n",
    "    for i in range(0,len(text)) :\n",
    "        count=0\n",
    "        \n",
    "        for j in range(i+1,len(text)):\n",
    "            if text[i]==text[j]:\n",
    "                count=+1\n",
    "        if count > 0:\n",
    "            print(f'{text[i]} : reapeted')\n",
    "            continue\n",
    "                \n",
    "                \n",
    "                \n",
    "                \n",
    "class Logic_pass:\n",
    "    repeatef(\"abcabc\")"
   ]
  }
 ],
 "metadata": {
  "kernelspec": {
   "display_name": "Python 3 (ipykernel)",
   "language": "python",
   "name": "python3"
  },
  "language_info": {
   "codemirror_mode": {
    "name": "ipython",
    "version": 3
   },
   "file_extension": ".py",
   "mimetype": "text/x-python",
   "name": "python",
   "nbconvert_exporter": "python",
   "pygments_lexer": "ipython3",
   "version": "3.9.12"
  }
 },
 "nbformat": 4,
 "nbformat_minor": 5
}
